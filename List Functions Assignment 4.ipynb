{
 "cells": [
  {
   "cell_type": "markdown",
   "id": "c27c427a-c738-470f-b248-15712f07713f",
   "metadata": {},
   "source": [
    "Q1. What is the syntax for adding an element to a list in Python?"
   ]
  },
  {
   "cell_type": "markdown",
   "id": "43b9c234-2b3d-4d67-9d22-315f28d12165",
   "metadata": {},
   "source": [
    "Ans. The append() method or insert() method.The syntax for both"
   ]
  },
  {
   "cell_type": "code",
   "execution_count": 1,
   "id": "42235adc-961a-45cf-a514-ecff1e79aca3",
   "metadata": {},
   "outputs": [],
   "source": [
    "l=[10,41,45,75]"
   ]
  },
  {
   "cell_type": "code",
   "execution_count": 2,
   "id": "7dd230e1-7cba-4800-9ba4-25a96ed85402",
   "metadata": {},
   "outputs": [],
   "source": [
    "l.append(50)"
   ]
  },
  {
   "cell_type": "code",
   "execution_count": 3,
   "id": "0c8598e1-c098-4af1-adfd-aba7d52aa34a",
   "metadata": {},
   "outputs": [
    {
     "data": {
      "text/plain": [
       "[10, 41, 45, 75, 50]"
      ]
     },
     "execution_count": 3,
     "metadata": {},
     "output_type": "execute_result"
    }
   ],
   "source": [
    "l"
   ]
  },
  {
   "cell_type": "code",
   "execution_count": 4,
   "id": "21c77226-0843-4286-ac51-8461eead06f6",
   "metadata": {},
   "outputs": [],
   "source": [
    "l.insert(2,80)"
   ]
  },
  {
   "cell_type": "code",
   "execution_count": 5,
   "id": "5724fab4-b19e-4743-892a-1663a5999227",
   "metadata": {},
   "outputs": [
    {
     "data": {
      "text/plain": [
       "[10, 41, 80, 45, 75, 50]"
      ]
     },
     "execution_count": 5,
     "metadata": {},
     "output_type": "execute_result"
    }
   ],
   "source": [
    "l"
   ]
  },
  {
   "cell_type": "markdown",
   "id": "adcbbedb-d7eb-4c02-9154-1f808fddbc51",
   "metadata": {},
   "source": [
    "Q2. What is the difference between remove() and pop() functions in Python?"
   ]
  },
  {
   "cell_type": "markdown",
   "id": "e6be090c-f101-4ff3-856d-f1c65cf7828d",
   "metadata": {},
   "source": [
    "Ans. The remove() and pop() functions in Python are both used with lists but serve different purposes"
   ]
  },
  {
   "cell_type": "code",
   "execution_count": 6,
   "id": "c8b74178-b1eb-4f31-966d-a2ba07fc2251",
   "metadata": {},
   "outputs": [],
   "source": [
    "l.remove(45)"
   ]
  },
  {
   "cell_type": "code",
   "execution_count": 7,
   "id": "e54f65e9-510d-4e00-b299-5676834c5fde",
   "metadata": {},
   "outputs": [
    {
     "data": {
      "text/plain": [
       "[10, 41, 80, 75, 50]"
      ]
     },
     "execution_count": 7,
     "metadata": {},
     "output_type": "execute_result"
    }
   ],
   "source": [
    "l"
   ]
  },
  {
   "cell_type": "code",
   "execution_count": 8,
   "id": "97750070-4e40-4fbc-8446-3f9981b8b16f",
   "metadata": {},
   "outputs": [
    {
     "data": {
      "text/plain": [
       "50"
      ]
     },
     "execution_count": 8,
     "metadata": {},
     "output_type": "execute_result"
    }
   ],
   "source": [
    "l.pop()"
   ]
  },
  {
   "cell_type": "markdown",
   "id": "1b783f80-aaeb-49b8-b7fb-3fc411a62160",
   "metadata": {},
   "source": [
    "Q3. Write a Python code to sort a list in descending order."
   ]
  },
  {
   "cell_type": "markdown",
   "id": "426e85a6-3572-455d-a159-6ab9c9e5e480",
   "metadata": {},
   "source": [
    "Ans. "
   ]
  },
  {
   "cell_type": "code",
   "execution_count": 9,
   "id": "8d898e56-ffa2-45d2-a614-7c065f03b8fa",
   "metadata": {},
   "outputs": [],
   "source": [
    "l.sort(reverse=True)"
   ]
  },
  {
   "cell_type": "code",
   "execution_count": 10,
   "id": "c66e11bc-0b26-45b1-97fa-0b4954f4ecb9",
   "metadata": {},
   "outputs": [
    {
     "data": {
      "text/plain": [
       "[80, 75, 41, 10]"
      ]
     },
     "execution_count": 10,
     "metadata": {},
     "output_type": "execute_result"
    }
   ],
   "source": [
    "l"
   ]
  },
  {
   "cell_type": "markdown",
   "id": "7d776033-acef-4595-b861-2c30dccd7575",
   "metadata": {},
   "source": [
    "Q4. Write a Python code to count the number of occurrences of an element in a list."
   ]
  },
  {
   "cell_type": "markdown",
   "id": "ed89a221-7f76-4bb1-8378-dbaebe1f8463",
   "metadata": {},
   "source": [
    "Ans. "
   ]
  },
  {
   "cell_type": "code",
   "execution_count": 11,
   "id": "8fde36ed-328c-489f-8f87-b3e43f65fe5d",
   "metadata": {},
   "outputs": [],
   "source": [
    "l=[1,2,3,5,2,4,2,4,]"
   ]
  },
  {
   "cell_type": "code",
   "execution_count": 12,
   "id": "8a012650-dcc9-4b31-9ef2-d028e9e507f8",
   "metadata": {},
   "outputs": [
    {
     "data": {
      "text/plain": [
       "3"
      ]
     },
     "execution_count": 12,
     "metadata": {},
     "output_type": "execute_result"
    }
   ],
   "source": [
    "l.count(2)"
   ]
  },
  {
   "cell_type": "markdown",
   "id": "dc32ff00-cc16-4ed6-8e78-4393fd38cec8",
   "metadata": {},
   "source": [
    "Q5. Write a Python code to reverse a list."
   ]
  },
  {
   "cell_type": "code",
   "execution_count": null,
   "id": "6657e3dc-22c6-4665-bf14-0523b768c3d0",
   "metadata": {},
   "outputs": [],
   "source": []
  }
 ],
 "metadata": {
  "kernelspec": {
   "display_name": "Python 3 (ipykernel)",
   "language": "python",
   "name": "python3"
  },
  "language_info": {
   "codemirror_mode": {
    "name": "ipython",
    "version": 3
   },
   "file_extension": ".py",
   "mimetype": "text/x-python",
   "name": "python",
   "nbconvert_exporter": "python",
   "pygments_lexer": "ipython3",
   "version": "3.10.8"
  }
 },
 "nbformat": 4,
 "nbformat_minor": 5
}
