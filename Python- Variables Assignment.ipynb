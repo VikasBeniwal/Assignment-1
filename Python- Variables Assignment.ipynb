{
 "cells": [
  {
   "cell_type": "markdown",
   "id": "d0d686b4-6552-47d3-9ca1-1d799687b412",
   "metadata": {},
   "source": [
    "Q1. Write all the conventions being followed while declaring a variable."
   ]
  },
  {
   "cell_type": "markdown",
   "id": "c8fe3e72-a0a0-43c8-b778-e7eb00e87e35",
   "metadata": {},
   "source": [
    "Ans. A variable name must start with a letter or an underscore character (_) A variable name cannot start with a digit. A variable name can only contain alpha-numeric characters and underscores ( a-z, A-Z , 0-9 , and _ ) Variable names are case-sensitive (abc, Abc and ABC are three different variables)"
   ]
  },
  {
   "cell_type": "code",
   "execution_count": 1,
   "id": "4ac24d12-b902-4494-950c-9b09b1a9c076",
   "metadata": {},
   "outputs": [],
   "source": [
    "#Legal variable names:\n",
    "myvar = \"abc\"\n",
    "my_var = \"abc\"\n",
    "_my_var = \"abc\"\n",
    "myVar = \"abc\"\n",
    "MYVAR = \"abc\"\n",
    "myvar2 = \"abc\"\n"
   ]
  },
  {
   "cell_type": "code",
   "execution_count": null,
   "id": "2c501df8-8bac-4a5f-8b9c-61844b3b57dc",
   "metadata": {},
   "outputs": [],
   "source": [
    "#Illegal variable names:\n",
    "2myvar = \"abc\"\n",
    "my-var = \"abc\"\n",
    "my var = \"abc\""
   ]
  },
  {
   "cell_type": "markdown",
   "id": "4f3f1999-13be-40ef-b9ae-33393991db2a",
   "metadata": {},
   "source": [
    "Q2. What will happen if we declare a restricted keyword as a variable?"
   ]
  },
  {
   "cell_type": "markdown",
   "id": "dbde0b11-e072-41a7-80cc-802f5319d9c7",
   "metadata": {},
   "source": [
    "Ans. If we declare any restricted keyword as a variable then 'SyntaxError: invalid syntax'"
   ]
  },
  {
   "cell_type": "code",
   "execution_count": 2,
   "id": "b0a5c9f2-92f9-4bb7-b971-e3920323c7d0",
   "metadata": {},
   "outputs": [
    {
     "ename": "SyntaxError",
     "evalue": "invalid syntax (518425342.py, line 1)",
     "output_type": "error",
     "traceback": [
      "\u001b[0;36m  Cell \u001b[0;32mIn[2], line 1\u001b[0;36m\u001b[0m\n\u001b[0;31m    if=45\u001b[0m\n\u001b[0m      ^\u001b[0m\n\u001b[0;31mSyntaxError\u001b[0m\u001b[0;31m:\u001b[0m invalid syntax\n"
     ]
    }
   ],
   "source": [
    "if=45"
   ]
  },
  {
   "cell_type": "markdown",
   "id": "24274c74-b479-49f9-b156-837b388499dd",
   "metadata": {},
   "source": [
    "Q3. Can we actually declare a string as a variable name?"
   ]
  },
  {
   "cell_type": "markdown",
   "id": "446624c5-5cc4-406d-a0ec-b15d918f782e",
   "metadata": {},
   "source": [
    "Ans. we can define a variable name with the string by adding the input string as a key into the symbol table."
   ]
  },
  {
   "cell_type": "markdown",
   "id": "10dc1170-d579-4cba-9787-2f5c7128eeb0",
   "metadata": {},
   "source": [
    "Q4. Is it possible for us to declare “_” as a variable? If so, then write an example of it."
   ]
  },
  {
   "cell_type": "markdown",
   "id": "2f4941f8-1dc1-41ad-ad7b-f9fe4c20dc5b",
   "metadata": {},
   "source": [
    "Ans. Yes "
   ]
  },
  {
   "cell_type": "markdown",
   "id": "e141958f-bf3d-4961-9289-1e61520ec24a",
   "metadata": {},
   "source": [
    "example"
   ]
  },
  {
   "cell_type": "code",
   "execution_count": 4,
   "id": "e3c38517-d426-4df5-8421-470dd84340be",
   "metadata": {},
   "outputs": [],
   "source": [
    "_ = 45"
   ]
  },
  {
   "cell_type": "markdown",
   "id": "05580ce4-a617-4986-a948-270a4a140dcb",
   "metadata": {},
   "source": [
    "Q5. Using an example, explain how the variables in python are dynamic in nature."
   ]
  },
  {
   "cell_type": "markdown",
   "id": "0aed85e5-7434-419e-8941-15ea68dbe7a0",
   "metadata": {},
   "source": [
    "Ans. For example, the following code creates a variable x and assigns it the value 5"
   ]
  },
  {
   "cell_type": "code",
   "execution_count": 5,
   "id": "88ef0d3e-f9ff-460a-9823-f5f9b9db5e22",
   "metadata": {},
   "outputs": [],
   "source": [
    "x=5"
   ]
  },
  {
   "cell_type": "markdown",
   "id": "8433c358-4e93-47f6-8e40-e1acf44861f3",
   "metadata": {},
   "source": [
    "Later, the value of x can be changed to a different value, like so:"
   ]
  },
  {
   "cell_type": "code",
   "execution_count": 6,
   "id": "e71c4181-f25d-449c-b02f-b71ae4b55a0d",
   "metadata": {},
   "outputs": [],
   "source": [
    "x=10"
   ]
  },
  {
   "cell_type": "markdown",
   "id": "035460b8-8a41-4ed1-a17b-739eb800f54e",
   "metadata": {},
   "source": [
    "In Python, variables do not have a specific data type, they can be reassigned to any type of value."
   ]
  },
  {
   "cell_type": "code",
   "execution_count": 7,
   "id": "d2b4004f-0548-40c0-8e3d-e9569eedcabc",
   "metadata": {},
   "outputs": [],
   "source": [
    "x='abc',\"ABC\""
   ]
  },
  {
   "cell_type": "markdown",
   "id": "0d36679d-8670-44f7-b91b-b6eda8294887",
   "metadata": {},
   "source": [
    "This feature of Python allows for a great deal of flexibility in programming, but it also means that it is important to be careful when using variables, as their values can change unexpectedly if not properly managed."
   ]
  }
 ],
 "metadata": {
  "kernelspec": {
   "display_name": "Python 3 (ipykernel)",
   "language": "python",
   "name": "python3"
  },
  "language_info": {
   "codemirror_mode": {
    "name": "ipython",
    "version": 3
   },
   "file_extension": ".py",
   "mimetype": "text/x-python",
   "name": "python",
   "nbconvert_exporter": "python",
   "pygments_lexer": "ipython3",
   "version": "3.10.8"
  }
 },
 "nbformat": 4,
 "nbformat_minor": 5
}
