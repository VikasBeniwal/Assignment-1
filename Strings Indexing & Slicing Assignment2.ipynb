{
 "cells": [
  {
   "cell_type": "raw",
   "id": "6cf31cf9-3536-4ea5-a966-83f88d03228b",
   "metadata": {},
   "source": [
    "Q1. How can we store a single quote (‘) as a string in a variable?"
   ]
  },
  {
   "cell_type": "markdown",
   "id": "6ed199fe-7ee9-4829-886c-b0d0bc24bfd8",
   "metadata": {},
   "source": [
    "Ans. To store a single quote (') as a string in a variable, you typically need to use an escape character to indicate that the single quote should be treated as a literal character and not as a delimiter for the string. "
   ]
  },
  {
   "cell_type": "code",
   "execution_count": 2,
   "id": "b2cc06f8-26fd-48b9-bb60-0b2fe3517560",
   "metadata": {},
   "outputs": [],
   "source": [
    "my_string = 'This is a single quote: \\''"
   ]
  },
  {
   "cell_type": "raw",
   "id": "cdc14f53-e7a5-4235-b858-d0720a13c7e5",
   "metadata": {},
   "source": [
    "Q2. Refer the below var1able:\n",
    "x = 'a'\n",
    "Here, is x a character type or string type variable? Support your answer with an explanation."
   ]
  },
  {
   "cell_type": "markdown",
   "id": "f5372c02-ceab-476b-8a59-512e07f78852",
   "metadata": {},
   "source": [
    "Ans. The variable x in the assignment x = 'a' is typically considered a string type variable\n",
    "        String Syntax: The syntax used here ('a') is consistent with how strings are defined in Python. Strings can contain one or more characters and are often enclosed in quotation marks (single or double) to denote their string nature.\n",
    "        "
   ]
  },
  {
   "cell_type": "code",
   "execution_count": 4,
   "id": "1c8698fc-c25f-42ae-b1a7-25ad05b73bd8",
   "metadata": {},
   "outputs": [],
   "source": [
    "x='a'\n",
    "x1=\"a\""
   ]
  },
  {
   "cell_type": "code",
   "execution_count": 5,
   "id": "6a33526e-feac-4741-8848-73312218c474",
   "metadata": {},
   "outputs": [
    {
     "data": {
      "text/plain": [
       "str"
      ]
     },
     "execution_count": 5,
     "metadata": {},
     "output_type": "execute_result"
    }
   ],
   "source": [
    "type(x)"
   ]
  },
  {
   "cell_type": "code",
   "execution_count": 6,
   "id": "5a5083ba-5019-47b8-b55b-b290faba0711",
   "metadata": {},
   "outputs": [
    {
     "data": {
      "text/plain": [
       "str"
      ]
     },
     "execution_count": 6,
     "metadata": {},
     "output_type": "execute_result"
    }
   ],
   "source": [
    "type(x1)"
   ]
  },
  {
   "cell_type": "raw",
   "id": "95eca128-64e6-4c0b-966f-743bb145fb08",
   "metadata": {},
   "source": [
    "Q3. Apply the following functions on this variable: \n",
    "1 find ()\n",
    "2 count()\n",
    "3 len()\n",
    "4 Concatenation"
   ]
  },
  {
   "cell_type": "markdown",
   "id": "f8e8576c-8e7c-4338-8f69-a8451bb26be3",
   "metadata": {},
   "source": [
    "Ans. Apply the following functions to the given string: 'Welcome to Python foundation course'."
   ]
  },
  {
   "cell_type": "code",
   "execution_count": 7,
   "id": "5ef5112d-4a27-464a-983e-b0f314bc8d04",
   "metadata": {},
   "outputs": [
    {
     "name": "stdout",
     "output_type": "stream",
     "text": [
      "11\n"
     ]
    }
   ],
   "source": [
    "#find()\n",
    "string = 'Welcome to Python foundation course'\n",
    "\n",
    "# Find the index of the word 'Python'\n",
    "x = string.find('Python')\n",
    "print(x) "
   ]
  },
  {
   "cell_type": "code",
   "execution_count": 8,
   "id": "ff135675-5fee-4b5b-9b45-91aeba9e71c9",
   "metadata": {},
   "outputs": [
    {
     "name": "stdout",
     "output_type": "stream",
     "text": [
      "6\n"
     ]
    }
   ],
   "source": [
    "#count()\n",
    "string = 'Welcome to Python foundation course'\n",
    "\n",
    "# Count the number of times 'o' appears in the string\n",
    "x = string.count('o')\n",
    "print(x) \n"
   ]
  },
  {
   "cell_type": "code",
   "execution_count": 9,
   "id": "813b880b-1f74-4efe-a39c-bd66d9d56616",
   "metadata": {},
   "outputs": [
    {
     "name": "stdout",
     "output_type": "stream",
     "text": [
      "35\n"
     ]
    }
   ],
   "source": [
    "#len()\n",
    "string = 'Welcome to Python foundation course'\n",
    "\n",
    "# Find the length of the string\n",
    "x = len(string)\n",
    "print(x)\n"
   ]
  },
  {
   "cell_type": "code",
   "execution_count": 10,
   "id": "543b6618-5513-43c1-a26f-0794c3fbd465",
   "metadata": {},
   "outputs": [
    {
     "name": "stdout",
     "output_type": "stream",
     "text": [
      "Welcome to Python foundation course\n"
     ]
    }
   ],
   "source": [
    "#Concatenation\n",
    "string1 = 'Welcome to Python'\n",
    "string2 = 'foundation course'\n",
    "\n",
    "# Concatenate the two strings\n",
    "x = string1 + ' ' + string2\n",
    "print(x)"
   ]
  },
  {
   "cell_type": "raw",
   "id": "b95be212-a6e8-4c11-aaa8-256eb7aeca48",
   "metadata": {},
   "source": [
    "Q4. For the variable: word = 'PanaJi@12256'\n",
    "Calculate the following:\n",
    "(a) Total number of alphabets in lowercase\n",
    "(b) Total number of alphabets in uppercase\n",
    "(c) Total number of numerical in string"
   ]
  },
  {
   "cell_type": "raw",
   "id": "859683b5-8054-4b8e-bd0d-b24baf3e36af",
   "metadata": {},
   "source": [
    "Ans. (a) Total number of lowercase alphabets:"
   ]
  },
  {
   "cell_type": "code",
   "execution_count": 14,
   "id": "3faedce7-ee72-4322-a56b-36aaade839b4",
   "metadata": {},
   "outputs": [],
   "source": [
    "word = 'PanaJi@12256'"
   ]
  },
  {
   "cell_type": "code",
   "execution_count": 15,
   "id": "36d2fde8-141a-4422-ae97-4410d2f72aba",
   "metadata": {},
   "outputs": [],
   "source": [
    "lowercase_count = 0"
   ]
  },
  {
   "cell_type": "code",
   "execution_count": 18,
   "id": "7b28206c-0fa6-4062-b92e-ca3e03ae8d5f",
   "metadata": {},
   "outputs": [],
   "source": [
    "for char in word:\n",
    "    if char.islower():\n",
    "        lowercase_count += 1"
   ]
  },
  {
   "cell_type": "code",
   "execution_count": 19,
   "id": "d4cc219a-9501-4d5d-9463-bf904cfb5a9b",
   "metadata": {},
   "outputs": [
    {
     "name": "stdout",
     "output_type": "stream",
     "text": [
      "Total number of lowercase alphabets: 12\n"
     ]
    }
   ],
   "source": [
    "print(\"Total number of lowercase alphabets:\", lowercase_count)"
   ]
  },
  {
   "cell_type": "raw",
   "id": "cd912088-0789-49a9-be18-26746333d679",
   "metadata": {},
   "source": [
    "(b) Total number of alphabets in uppercase"
   ]
  },
  {
   "cell_type": "code",
   "execution_count": 20,
   "id": "97c7f394-d2ef-46d7-a0f5-e222672710d7",
   "metadata": {},
   "outputs": [],
   "source": [
    "word = 'PanaJi@12256'"
   ]
  },
  {
   "cell_type": "code",
   "execution_count": 21,
   "id": "f2331595-34fb-4ebe-9667-f3044b115f78",
   "metadata": {},
   "outputs": [],
   "source": [
    "uppercase_count = 0"
   ]
  },
  {
   "cell_type": "code",
   "execution_count": 23,
   "id": "bb914ccb-86b5-4541-96bd-b680aee8c152",
   "metadata": {},
   "outputs": [],
   "source": [
    "for char in word:\n",
    "    if char.isupper():\n",
    "        uppercase_count += 1"
   ]
  },
  {
   "cell_type": "code",
   "execution_count": 24,
   "id": "8044d450-a66f-4738-905e-fa644ad87889",
   "metadata": {},
   "outputs": [
    {
     "name": "stdout",
     "output_type": "stream",
     "text": [
      "Total number of uppercase alphabets: 4\n"
     ]
    }
   ],
   "source": [
    "print(\"Total number of uppercase alphabets:\", uppercase_count)"
   ]
  },
  {
   "cell_type": "raw",
   "id": "c6fc611f-0719-4004-b2f7-1d5b9f3f661f",
   "metadata": {},
   "source": [
    "(c) Total number of numerical in string"
   ]
  },
  {
   "cell_type": "code",
   "execution_count": 25,
   "id": "0f1d56a9-8664-4e1e-a54d-f9aeb478fb15",
   "metadata": {},
   "outputs": [],
   "source": [
    "word = 'PanaJi@12256'"
   ]
  },
  {
   "cell_type": "code",
   "execution_count": 26,
   "id": "ebc95de6-5d85-4ba1-be8d-69a62793ea8f",
   "metadata": {},
   "outputs": [],
   "source": [
    "numerical_count = 0"
   ]
  },
  {
   "cell_type": "code",
   "execution_count": 27,
   "id": "75cf672d-ecc0-4629-be11-e74ad3fdbf53",
   "metadata": {},
   "outputs": [],
   "source": [
    "for char in word:\n",
    "    if char.isdigit():\n",
    "        numerical_count += 1"
   ]
  },
  {
   "cell_type": "code",
   "execution_count": 28,
   "id": "501bf67a-b44d-44dc-9e17-d9a4097b5316",
   "metadata": {},
   "outputs": [
    {
     "name": "stdout",
     "output_type": "stream",
     "text": [
      "Total number of numerical digits: 5\n"
     ]
    }
   ],
   "source": [
    "print(\"Total number of numerical digits:\", numerical_count)"
   ]
  },
  {
   "cell_type": "raw",
   "id": "01fdf823-99f7-4f14-ae7d-50bf643ee409",
   "metadata": {},
   "source": [
    "Q5. Write a code to store a numerical value inside a variable then convert it into string"
   ]
  },
  {
   "cell_type": "raw",
   "id": "dce98c41-12c9-416b-8ea8-ca10ab0253ae",
   "metadata": {},
   "source": [
    "Ans. "
   ]
  },
  {
   "cell_type": "code",
   "execution_count": 29,
   "id": "536788d5-771f-401e-b934-2db541aa4e9c",
   "metadata": {},
   "outputs": [],
   "source": [
    "x=45"
   ]
  },
  {
   "cell_type": "code",
   "execution_count": 30,
   "id": "cada41a2-a6b6-43f1-a79a-7db641fc332f",
   "metadata": {},
   "outputs": [],
   "source": [
    "x1=str(x)"
   ]
  },
  {
   "cell_type": "code",
   "execution_count": 32,
   "id": "bd636db3-25cb-4be9-a6aa-fa453920e305",
   "metadata": {},
   "outputs": [
    {
     "name": "stdout",
     "output_type": "stream",
     "text": [
      "45 <class 'str'>\n"
     ]
    }
   ],
   "source": [
    "print(x,type(x1))"
   ]
  },
  {
   "cell_type": "code",
   "execution_count": null,
   "id": "d62f37c1-88ad-44fd-b07e-fc05b6bd2f7b",
   "metadata": {},
   "outputs": [],
   "source": []
  }
 ],
 "metadata": {
  "kernelspec": {
   "display_name": "Python 3 (ipykernel)",
   "language": "python",
   "name": "python3"
  },
  "language_info": {
   "codemirror_mode": {
    "name": "ipython",
    "version": 3
   },
   "file_extension": ".py",
   "mimetype": "text/x-python",
   "name": "python",
   "nbconvert_exporter": "python",
   "pygments_lexer": "ipython3",
   "version": "3.10.8"
  }
 },
 "nbformat": 4,
 "nbformat_minor": 5
}
