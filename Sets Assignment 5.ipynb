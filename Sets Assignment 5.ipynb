{
 "cells": [
  {
   "cell_type": "markdown",
   "id": "e65c334b-c502-4f18-8070-013ff284691c",
   "metadata": {},
   "source": [
    "Q1. What is a set in Python?"
   ]
  },
  {
   "cell_type": "markdown",
   "id": "e2f2d4a5-23cf-46a6-a0c5-935e97c30528",
   "metadata": {},
   "source": [
    "Ans. \n",
    "In Python, a set is an unordered collection of unique elements. Sets are used to store multiple items, but unlike lists and tuples, sets do not allow duplicate values. Sets are defined by enclosing a comma-separated list of elements within curly braces {} or by using the set() constructor."
   ]
  },
  {
   "cell_type": "code",
   "execution_count": 1,
   "id": "473d5cdf-15af-47e1-8723-343827d244c5",
   "metadata": {},
   "outputs": [],
   "source": [
    "s={1,2,3,5,4,7,8,5,4,}"
   ]
  },
  {
   "cell_type": "code",
   "execution_count": 2,
   "id": "a9c94ff3-3f44-414b-ba7e-d70b04102d03",
   "metadata": {},
   "outputs": [
    {
     "data": {
      "text/plain": [
       "{1, 2, 3, 4, 5, 7, 8}"
      ]
     },
     "execution_count": 2,
     "metadata": {},
     "output_type": "execute_result"
    }
   ],
   "source": [
    "s"
   ]
  },
  {
   "cell_type": "markdown",
   "id": "812ea82b-a610-4ab0-bcd0-3024df6bd777",
   "metadata": {},
   "source": [
    "Q2.How do you create a set in Python?"
   ]
  },
  {
   "cell_type": "markdown",
   "id": "f5405330-1287-455f-84ec-b0f61967e568",
   "metadata": {},
   "source": [
    "Ans. "
   ]
  },
  {
   "cell_type": "code",
   "execution_count": 3,
   "id": "0bd724c3-a2de-4e96-8b06-29e0d1639e84",
   "metadata": {},
   "outputs": [],
   "source": [
    "s1={42,51,48,42,51}"
   ]
  },
  {
   "cell_type": "code",
   "execution_count": 4,
   "id": "28a20972-3b89-4521-a21a-0a0e2829b1a2",
   "metadata": {},
   "outputs": [
    {
     "data": {
      "text/plain": [
       "{42, 48, 51}"
      ]
     },
     "execution_count": 4,
     "metadata": {},
     "output_type": "execute_result"
    }
   ],
   "source": [
    "s1"
   ]
  },
  {
   "cell_type": "code",
   "execution_count": 5,
   "id": "b9b4149f-0fb8-41be-afce-d889b1dee6f3",
   "metadata": {},
   "outputs": [
    {
     "data": {
      "text/plain": [
       "set()"
      ]
     },
     "execution_count": 5,
     "metadata": {},
     "output_type": "execute_result"
    }
   ],
   "source": [
    "set()"
   ]
  },
  {
   "cell_type": "code",
   "execution_count": 6,
   "id": "8e53a64b-52ca-4fde-817a-2fb5875804be",
   "metadata": {},
   "outputs": [
    {
     "data": {
      "text/plain": [
       "set"
      ]
     },
     "execution_count": 6,
     "metadata": {},
     "output_type": "execute_result"
    }
   ],
   "source": [
    "type(s1)"
   ]
  },
  {
   "cell_type": "markdown",
   "id": "38ff0923-9fbd-4ce7-974d-5b3a64be2f7c",
   "metadata": {},
   "source": [
    "Q3. How do you add elements to a set in Python?"
   ]
  },
  {
   "cell_type": "markdown",
   "id": "5c54992b-7f01-481e-9f84-7642344f9d67",
   "metadata": {},
   "source": [
    "Ans. "
   ]
  },
  {
   "cell_type": "code",
   "execution_count": 7,
   "id": "4ca6f214-380a-41d7-aa1a-9639495bdd7a",
   "metadata": {},
   "outputs": [
    {
     "data": {
      "text/plain": [
       "{42, 48, 51}"
      ]
     },
     "execution_count": 7,
     "metadata": {},
     "output_type": "execute_result"
    }
   ],
   "source": [
    "s1"
   ]
  },
  {
   "cell_type": "code",
   "execution_count": 8,
   "id": "8ec6c6a1-d109-45ec-a8e7-545d11f384af",
   "metadata": {},
   "outputs": [],
   "source": [
    "s1.add(12)"
   ]
  },
  {
   "cell_type": "code",
   "execution_count": 9,
   "id": "3d755c49-a8b6-4db7-88ac-60d0f881dca9",
   "metadata": {},
   "outputs": [
    {
     "data": {
      "text/plain": [
       "{12, 42, 48, 51}"
      ]
     },
     "execution_count": 9,
     "metadata": {},
     "output_type": "execute_result"
    }
   ],
   "source": [
    "s1"
   ]
  },
  {
   "cell_type": "code",
   "execution_count": 10,
   "id": "a762f64f-5793-40d4-a686-347997c43d64",
   "metadata": {},
   "outputs": [],
   "source": [
    "s1.add((45,75,15))"
   ]
  },
  {
   "cell_type": "code",
   "execution_count": 11,
   "id": "baf5a7e4-258f-4a5f-bd4b-dd4b05a229f5",
   "metadata": {},
   "outputs": [
    {
     "data": {
      "text/plain": [
       "{(45, 75, 15), 12, 42, 48, 51}"
      ]
     },
     "execution_count": 11,
     "metadata": {},
     "output_type": "execute_result"
    }
   ],
   "source": [
    "s1"
   ]
  },
  {
   "cell_type": "markdown",
   "id": "b155ee01-c2bb-427e-b6ef-9df848c5d21c",
   "metadata": {},
   "source": [
    "Q4. How do you remove elements from a set in Python?"
   ]
  },
  {
   "cell_type": "markdown",
   "id": "da5ece68-2051-4339-9b82-be3a8ef26fc3",
   "metadata": {},
   "source": [
    "Ans. "
   ]
  },
  {
   "cell_type": "code",
   "execution_count": 12,
   "id": "c81527d8-35f1-4407-8c27-18e477b30e33",
   "metadata": {},
   "outputs": [
    {
     "data": {
      "text/plain": [
       "{(45, 75, 15), 12, 42, 48, 51}"
      ]
     },
     "execution_count": 12,
     "metadata": {},
     "output_type": "execute_result"
    }
   ],
   "source": [
    "s1"
   ]
  },
  {
   "cell_type": "code",
   "execution_count": 13,
   "id": "017b639a-fc6e-44f6-96d3-6170f3417553",
   "metadata": {},
   "outputs": [],
   "source": [
    "s1.remove(12)"
   ]
  },
  {
   "cell_type": "code",
   "execution_count": 14,
   "id": "c8ec403a-e409-4d41-825a-8c7ec65b0ac3",
   "metadata": {},
   "outputs": [
    {
     "data": {
      "text/plain": [
       "{(45, 75, 15), 42, 48, 51}"
      ]
     },
     "execution_count": 14,
     "metadata": {},
     "output_type": "execute_result"
    }
   ],
   "source": [
    "s1"
   ]
  },
  {
   "cell_type": "code",
   "execution_count": 15,
   "id": "1cc67dec-73b3-4041-941d-8e1d2195b5f9",
   "metadata": {},
   "outputs": [],
   "source": [
    "s1.discard(48)"
   ]
  },
  {
   "cell_type": "code",
   "execution_count": 16,
   "id": "18b97981-e15f-4b8d-981d-88083f150a3a",
   "metadata": {},
   "outputs": [
    {
     "data": {
      "text/plain": [
       "{(45, 75, 15), 42, 51}"
      ]
     },
     "execution_count": 16,
     "metadata": {},
     "output_type": "execute_result"
    }
   ],
   "source": [
    "s1"
   ]
  },
  {
   "cell_type": "markdown",
   "id": "58898211-8774-492c-9d39-e6b4d4ec12bf",
   "metadata": {},
   "source": [
    "Q5. How do you get the length of a set in Python?"
   ]
  },
  {
   "cell_type": "markdown",
   "id": "3603385b-838a-4d59-b5f4-46348a3d2bdb",
   "metadata": {},
   "source": [
    "Ans."
   ]
  },
  {
   "cell_type": "code",
   "execution_count": 17,
   "id": "f6342d2a-7af3-4416-bb96-d3b139459efc",
   "metadata": {},
   "outputs": [
    {
     "data": {
      "text/plain": [
       "{(45, 75, 15), 42, 51}"
      ]
     },
     "execution_count": 17,
     "metadata": {},
     "output_type": "execute_result"
    }
   ],
   "source": [
    "s1"
   ]
  },
  {
   "cell_type": "code",
   "execution_count": 18,
   "id": "f67e61cf-e47e-439c-9b62-1efe7660c6c9",
   "metadata": {},
   "outputs": [],
   "source": [
    "l=len(s1)"
   ]
  },
  {
   "cell_type": "code",
   "execution_count": 19,
   "id": "43a0f37a-8f95-41ec-82df-4634b5bd23f2",
   "metadata": {},
   "outputs": [
    {
     "data": {
      "text/plain": [
       "3"
      ]
     },
     "execution_count": 19,
     "metadata": {},
     "output_type": "execute_result"
    }
   ],
   "source": [
    "l"
   ]
  },
  {
   "cell_type": "code",
   "execution_count": null,
   "id": "16c29e0d-330b-4a44-84d0-1d04e89b4ff1",
   "metadata": {},
   "outputs": [],
   "source": []
  },
  {
   "cell_type": "code",
   "execution_count": null,
   "id": "57625867-4399-4462-99a5-54811f05dd9d",
   "metadata": {},
   "outputs": [],
   "source": []
  }
 ],
 "metadata": {
  "kernelspec": {
   "display_name": "Python 3 (ipykernel)",
   "language": "python",
   "name": "python3"
  },
  "language_info": {
   "codemirror_mode": {
    "name": "ipython",
    "version": 3
   },
   "file_extension": ".py",
   "mimetype": "text/x-python",
   "name": "python",
   "nbconvert_exporter": "python",
   "pygments_lexer": "ipython3",
   "version": "3.10.8"
  }
 },
 "nbformat": 4,
 "nbformat_minor": 5
}
