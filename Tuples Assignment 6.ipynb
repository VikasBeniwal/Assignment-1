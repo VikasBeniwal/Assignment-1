{
 "cells": [
  {
   "cell_type": "markdown",
   "id": "4cfea612-550b-4726-aeb3-12c993cdbed0",
   "metadata": {},
   "source": [
    "Q1. What is a tuple in Python?"
   ]
  },
  {
   "cell_type": "markdown",
   "id": "e6c21e3f-df8a-4e43-b63b-2bfacc97ec4b",
   "metadata": {},
   "source": [
    "Ans. A tuple is an ordered and immutable collection of elements. Tuples are similar to lists "
   ]
  },
  {
   "cell_type": "code",
   "execution_count": 1,
   "id": "30d205ef-c99b-4ce4-9fea-67b52c3e87af",
   "metadata": {},
   "outputs": [],
   "source": [
    "t=(2,5,4,1,6,)"
   ]
  },
  {
   "cell_type": "code",
   "execution_count": 2,
   "id": "f23e88a3-409f-4644-b9c9-ba4550a38f9a",
   "metadata": {},
   "outputs": [
    {
     "data": {
      "text/plain": [
       "(2, 5, 4, 1, 6)"
      ]
     },
     "execution_count": 2,
     "metadata": {},
     "output_type": "execute_result"
    }
   ],
   "source": [
    "t"
   ]
  },
  {
   "cell_type": "code",
   "execution_count": 3,
   "id": "f2b132a5-0443-482b-bb76-3d8b18989218",
   "metadata": {},
   "outputs": [
    {
     "data": {
      "text/plain": [
       "tuple"
      ]
     },
     "execution_count": 3,
     "metadata": {},
     "output_type": "execute_result"
    }
   ],
   "source": [
    "type(t)"
   ]
  },
  {
   "cell_type": "markdown",
   "id": "36a8eac8-6974-4905-98c6-9a4deabd3c5c",
   "metadata": {},
   "source": [
    "Q2. How do you create a tuple in Python?"
   ]
  },
  {
   "cell_type": "markdown",
   "id": "b72ce0c2-19a1-47a5-b235-5ed99d35c739",
   "metadata": {},
   "source": [
    "Ans. "
   ]
  },
  {
   "cell_type": "code",
   "execution_count": 4,
   "id": "15e43c06-a557-47cb-84aa-821d3853d31f",
   "metadata": {},
   "outputs": [],
   "source": [
    "t1=()"
   ]
  },
  {
   "cell_type": "code",
   "execution_count": 5,
   "id": "88f7e96a-b917-4c57-a0fa-7bea459b5beb",
   "metadata": {},
   "outputs": [
    {
     "data": {
      "text/plain": [
       "tuple"
      ]
     },
     "execution_count": 5,
     "metadata": {},
     "output_type": "execute_result"
    }
   ],
   "source": [
    "type(t1)"
   ]
  },
  {
   "cell_type": "code",
   "execution_count": 6,
   "id": "1c55101c-a2ce-46ad-adc7-ac60a79885a8",
   "metadata": {},
   "outputs": [],
   "source": [
    "t2=(1,2,'hello',True,4+5j,45.5)"
   ]
  },
  {
   "cell_type": "code",
   "execution_count": 7,
   "id": "168fea7b-c15b-4d17-8af4-3f3d130d69c1",
   "metadata": {},
   "outputs": [
    {
     "data": {
      "text/plain": [
       "(1, 2, 'hello', True, (4+5j), 45.5)"
      ]
     },
     "execution_count": 7,
     "metadata": {},
     "output_type": "execute_result"
    }
   ],
   "source": [
    "t2"
   ]
  },
  {
   "cell_type": "markdown",
   "id": "b6cbcc8a-92b6-4771-9cd9-d7ae38763d9c",
   "metadata": {},
   "source": [
    "Q3. What is the difference between a tuple and a list in Python?"
   ]
  },
  {
   "cell_type": "markdown",
   "id": "77855a19-dffa-4f50-acdd-af52e4a1f674",
   "metadata": {},
   "source": [
    "Ans. Lists: Lists are mutable, which means you can add, remove, or modify elements after the list is created. You can change the contents of a list without creating a new list.\n",
    "Tuples: Tuples are immutable, which means that once you create a tuple, you cannot change its elements. You cannot add, remove, or modify elements in a tuple. To change the contents of a tuple, you need to create a new tuple."
   ]
  },
  {
   "cell_type": "code",
   "execution_count": 8,
   "id": "0dea5bcb-316c-420b-bde3-41b26c117687",
   "metadata": {},
   "outputs": [],
   "source": [
    "l=[]"
   ]
  },
  {
   "cell_type": "code",
   "execution_count": 9,
   "id": "2b6579f1-982d-47f5-971e-0b809bb2cf65",
   "metadata": {},
   "outputs": [
    {
     "data": {
      "text/plain": [
       "list"
      ]
     },
     "execution_count": 9,
     "metadata": {},
     "output_type": "execute_result"
    }
   ],
   "source": [
    "type(l)"
   ]
  },
  {
   "cell_type": "code",
   "execution_count": 10,
   "id": "92a72814-1a6e-4e88-a135-cf6fa76b54e4",
   "metadata": {},
   "outputs": [],
   "source": [
    "t=()"
   ]
  },
  {
   "cell_type": "code",
   "execution_count": 11,
   "id": "13fb82ed-46f0-4c29-b125-57be072b8c32",
   "metadata": {},
   "outputs": [
    {
     "data": {
      "text/plain": [
       "tuple"
      ]
     },
     "execution_count": 11,
     "metadata": {},
     "output_type": "execute_result"
    }
   ],
   "source": [
    "type(t)"
   ]
  },
  {
   "cell_type": "markdown",
   "id": "6d56c673-b8d4-475e-bf49-5f9961034fef",
   "metadata": {},
   "source": [
    "Q4. Can a tuple be changed in Python?"
   ]
  },
  {
   "cell_type": "markdown",
   "id": "92994a59-2174-4f2e-8cba-81427502aec6",
   "metadata": {},
   "source": [
    "Ans. No, a tuple in Python cannot be changed after it is created. Tuples are immutable, which means that you cannot add, remove, or modify elements within a tuple. Once you define a tuple with its elements, they are fixed and cannot be altered."
   ]
  },
  {
   "cell_type": "code",
   "execution_count": 12,
   "id": "545f3cf6-d293-4100-ab93-b06f85e97693",
   "metadata": {},
   "outputs": [],
   "source": [
    "t=(12,45,78)"
   ]
  },
  {
   "cell_type": "markdown",
   "id": "9278a9c6-cf7c-442e-8c0d-eab15beb13a7",
   "metadata": {},
   "source": [
    "Q5. How do you access elements in a tuple?"
   ]
  },
  {
   "cell_type": "markdown",
   "id": "a89a1345-2151-47f1-b108-69fb1d3d7316",
   "metadata": {},
   "source": [
    "Ans."
   ]
  },
  {
   "cell_type": "code",
   "execution_count": 13,
   "id": "66349c36-9ae7-4bb3-8b09-0af5e9000710",
   "metadata": {},
   "outputs": [
    {
     "data": {
      "text/plain": [
       "(12, 45, 78)"
      ]
     },
     "execution_count": 13,
     "metadata": {},
     "output_type": "execute_result"
    }
   ],
   "source": [
    "t"
   ]
  },
  {
   "cell_type": "code",
   "execution_count": 14,
   "id": "5b9f4e6d-4976-4008-b32e-dfc0715f6740",
   "metadata": {},
   "outputs": [
    {
     "data": {
      "text/plain": [
       "45"
      ]
     },
     "execution_count": 14,
     "metadata": {},
     "output_type": "execute_result"
    }
   ],
   "source": [
    "t[1]"
   ]
  },
  {
   "cell_type": "code",
   "execution_count": 15,
   "id": "d2c7488d-8186-4cf0-a3ea-c95889ce3eb1",
   "metadata": {},
   "outputs": [
    {
     "data": {
      "text/plain": [
       "78"
      ]
     },
     "execution_count": 15,
     "metadata": {},
     "output_type": "execute_result"
    }
   ],
   "source": [
    "t[2]"
   ]
  },
  {
   "cell_type": "markdown",
   "id": "3a880d55-76d4-40f9-87cc-1760c31f38cd",
   "metadata": {},
   "source": [
    "Q6. How do you unpack a tuple in Python?"
   ]
  },
  {
   "cell_type": "markdown",
   "id": "bb902384-594d-4683-88a4-177e22630da9",
   "metadata": {},
   "source": [
    "Ans. "
   ]
  },
  {
   "cell_type": "code",
   "execution_count": 16,
   "id": "e2d406a1-1c99-4caa-990c-ed78630c2f7f",
   "metadata": {},
   "outputs": [
    {
     "data": {
      "text/plain": [
       "(12, 45, 78)"
      ]
     },
     "execution_count": 16,
     "metadata": {},
     "output_type": "execute_result"
    }
   ],
   "source": [
    "t"
   ]
  },
  {
   "cell_type": "code",
   "execution_count": 17,
   "id": "d483a5d5-d49c-4b43-a12f-093380cf3baa",
   "metadata": {},
   "outputs": [],
   "source": [
    "a,b,c=t"
   ]
  },
  {
   "cell_type": "code",
   "execution_count": 18,
   "id": "4b64f3e2-9ede-47a5-8c96-cd7d5f70843d",
   "metadata": {},
   "outputs": [
    {
     "data": {
      "text/plain": [
       "12"
      ]
     },
     "execution_count": 18,
     "metadata": {},
     "output_type": "execute_result"
    }
   ],
   "source": [
    "a"
   ]
  },
  {
   "cell_type": "code",
   "execution_count": 19,
   "id": "8977e1de-5cf0-4181-8ae2-cc387d075a6b",
   "metadata": {},
   "outputs": [
    {
     "data": {
      "text/plain": [
       "45"
      ]
     },
     "execution_count": 19,
     "metadata": {},
     "output_type": "execute_result"
    }
   ],
   "source": [
    "b"
   ]
  },
  {
   "cell_type": "code",
   "execution_count": 20,
   "id": "9bc20e14-70d3-4edd-8e56-e58efbcb09c6",
   "metadata": {},
   "outputs": [
    {
     "data": {
      "text/plain": [
       "78"
      ]
     },
     "execution_count": 20,
     "metadata": {},
     "output_type": "execute_result"
    }
   ],
   "source": [
    "c"
   ]
  },
  {
   "cell_type": "code",
   "execution_count": null,
   "id": "40bc0873-c320-4ae3-ae0e-ba2f677e231e",
   "metadata": {},
   "outputs": [],
   "source": []
  },
  {
   "cell_type": "code",
   "execution_count": null,
   "id": "ccf16c8c-0feb-407f-bd32-0761c47b3968",
   "metadata": {},
   "outputs": [],
   "source": []
  },
  {
   "cell_type": "code",
   "execution_count": null,
   "id": "5d1bfcb0-a48b-4921-bf6c-2e123371cd22",
   "metadata": {},
   "outputs": [],
   "source": []
  }
 ],
 "metadata": {
  "kernelspec": {
   "display_name": "Python 3 (ipykernel)",
   "language": "python",
   "name": "python3"
  },
  "language_info": {
   "codemirror_mode": {
    "name": "ipython",
    "version": 3
   },
   "file_extension": ".py",
   "mimetype": "text/x-python",
   "name": "python",
   "nbconvert_exporter": "python",
   "pygments_lexer": "ipython3",
   "version": "3.10.8"
  }
 },
 "nbformat": 4,
 "nbformat_minor": 5
}
