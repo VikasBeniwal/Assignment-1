{
 "cells": [
  {
   "cell_type": "raw",
   "id": "6b970846-afeb-4e10-a8dd-83cfca55b657",
   "metadata": {},
   "source": [
    "Q1. Create an empty list."
   ]
  },
  {
   "cell_type": "raw",
   "id": "62acaf57-bd74-4879-a5ee-fddf257c1f2b",
   "metadata": {},
   "source": [
    "Ans. "
   ]
  },
  {
   "cell_type": "code",
   "execution_count": 2,
   "id": "bfb4e0b8-7e81-4a65-b7af-228ff609a398",
   "metadata": {},
   "outputs": [],
   "source": [
    "l = []"
   ]
  },
  {
   "cell_type": "code",
   "execution_count": 3,
   "id": "3c984f57-846f-4267-b334-3b88c3ba543f",
   "metadata": {},
   "outputs": [
    {
     "data": {
      "text/plain": [
       "list"
      ]
     },
     "execution_count": 3,
     "metadata": {},
     "output_type": "execute_result"
    }
   ],
   "source": [
    "type(l)"
   ]
  },
  {
   "cell_type": "raw",
   "id": "43565844-3302-4e60-8379-a7134d8bfca7",
   "metadata": {},
   "source": [
    "Q2. Create a list and add an element to the end of this list."
   ]
  },
  {
   "cell_type": "raw",
   "id": "ae5febde-9a87-40ed-be9b-e9f5ba02f4ab",
   "metadata": {},
   "source": [
    "Ans."
   ]
  },
  {
   "cell_type": "code",
   "execution_count": 4,
   "id": "bb421cf7-0b6a-49a1-a8f6-f6de31bad22a",
   "metadata": {},
   "outputs": [],
   "source": [
    "l=[45,40,50]"
   ]
  },
  {
   "cell_type": "code",
   "execution_count": 5,
   "id": "db807172-6b1e-4815-8282-fba257b2ab25",
   "metadata": {},
   "outputs": [
    {
     "data": {
      "text/plain": [
       "[45, 40, 50]"
      ]
     },
     "execution_count": 5,
     "metadata": {},
     "output_type": "execute_result"
    }
   ],
   "source": [
    "l"
   ]
  },
  {
   "cell_type": "code",
   "execution_count": 7,
   "id": "f4f63985-01d4-4b01-9f13-389cfd627ef4",
   "metadata": {},
   "outputs": [],
   "source": [
    "l.append(20)"
   ]
  },
  {
   "cell_type": "code",
   "execution_count": 8,
   "id": "2bc393c3-91b2-416b-ac1c-a9c64476f17f",
   "metadata": {},
   "outputs": [
    {
     "data": {
      "text/plain": [
       "[45, 40, 50, 20]"
      ]
     },
     "execution_count": 8,
     "metadata": {},
     "output_type": "execute_result"
    }
   ],
   "source": [
    "l"
   ]
  },
  {
   "cell_type": "raw",
   "id": "18195440-778c-4fe6-be46-f06be5aa83bc",
   "metadata": {},
   "source": [
    "Q3. For the above created list print the last element."
   ]
  },
  {
   "cell_type": "raw",
   "id": "323162f6-2725-4e8d-a18c-6a90138f9dd8",
   "metadata": {},
   "source": [
    "Ans."
   ]
  },
  {
   "cell_type": "code",
   "execution_count": 9,
   "id": "84d63107-a960-4bfd-873c-8dda396c381b",
   "metadata": {},
   "outputs": [
    {
     "data": {
      "text/plain": [
       "20"
      ]
     },
     "execution_count": 9,
     "metadata": {},
     "output_type": "execute_result"
    }
   ],
   "source": [
    "l[-1]"
   ]
  },
  {
   "cell_type": "raw",
   "id": "d993d8fd-8deb-49f5-a5db-031a29f6da71",
   "metadata": {},
   "source": [
    "Q4. Reverse the above created list."
   ]
  },
  {
   "cell_type": "raw",
   "id": "53e48541-666d-4e28-a6c4-445c354fa91c",
   "metadata": {},
   "source": [
    "Ans."
   ]
  },
  {
   "cell_type": "code",
   "execution_count": 10,
   "id": "33790aaf-8440-4bc3-a2c0-525d2601f4fb",
   "metadata": {},
   "outputs": [],
   "source": [
    "l.reverse()"
   ]
  },
  {
   "cell_type": "code",
   "execution_count": 11,
   "id": "e8d59377-439d-4c73-a40d-44a9cbfc85a5",
   "metadata": {},
   "outputs": [
    {
     "data": {
      "text/plain": [
       "[20, 50, 40, 45]"
      ]
     },
     "execution_count": 11,
     "metadata": {},
     "output_type": "execute_result"
    }
   ],
   "source": [
    "l"
   ]
  },
  {
   "cell_type": "raw",
   "id": "7d937b25-2a7e-41f0-87ea-326624554336",
   "metadata": {},
   "source": [
    "Q5. Sort the above created list."
   ]
  },
  {
   "cell_type": "raw",
   "id": "a9a86273-2bdb-4990-906f-f9e437087ff4",
   "metadata": {},
   "source": [
    "Ans."
   ]
  },
  {
   "cell_type": "code",
   "execution_count": 12,
   "id": "f39f967a-6e47-4d34-8acc-607565e5dec7",
   "metadata": {},
   "outputs": [],
   "source": [
    "l.sort()"
   ]
  },
  {
   "cell_type": "code",
   "execution_count": 13,
   "id": "3fca8fbe-29da-42a3-92af-9c59950975a0",
   "metadata": {},
   "outputs": [
    {
     "data": {
      "text/plain": [
       "[20, 40, 45, 50]"
      ]
     },
     "execution_count": 13,
     "metadata": {},
     "output_type": "execute_result"
    }
   ],
   "source": [
    "l"
   ]
  },
  {
   "cell_type": "raw",
   "id": "95f8b9e4-2dd1-4d5c-9bdb-0fa08a4afb83",
   "metadata": {},
   "source": [
    "Q6. Create a list of your top three favorite movies, then print the second movie title."
   ]
  },
  {
   "cell_type": "raw",
   "id": "4826b0d9-fe6d-47e8-91d9-d26b5bb59d69",
   "metadata": {},
   "source": [
    "Ans."
   ]
  },
  {
   "cell_type": "code",
   "execution_count": 14,
   "id": "d53f3aa1-399c-4225-b8a9-f81d573c251d",
   "metadata": {},
   "outputs": [],
   "source": [
    "Favorite_movie=['GADAR','GADAR 2', 'OMG']"
   ]
  },
  {
   "cell_type": "code",
   "execution_count": 15,
   "id": "a016ff2e-9c1d-412e-901f-40812ddaf009",
   "metadata": {},
   "outputs": [
    {
     "data": {
      "text/plain": [
       "'GADAR 2'"
      ]
     },
     "execution_count": 15,
     "metadata": {},
     "output_type": "execute_result"
    }
   ],
   "source": [
    "Favorite_movie[1]"
   ]
  },
  {
   "cell_type": "raw",
   "id": "7a8baded-f77f-41a1-a942-2680b76bf7f8",
   "metadata": {},
   "source": [
    "Q7. Create a list of your favorite animals, then add a new animal to the list and print the updated list."
   ]
  },
  {
   "cell_type": "raw",
   "id": "671949c4-7a53-4173-ab72-6a88bd080e77",
   "metadata": {},
   "source": [
    "Ans."
   ]
  },
  {
   "cell_type": "code",
   "execution_count": 16,
   "id": "43157309-856c-49c4-871d-f6e71152cf4b",
   "metadata": {},
   "outputs": [],
   "source": [
    "Favorite_animals=['dog','cow','cat']"
   ]
  },
  {
   "cell_type": "code",
   "execution_count": 17,
   "id": "fbc6559b-4919-4887-89fc-03d4f7f7ba29",
   "metadata": {},
   "outputs": [],
   "source": [
    "Favorite_animals.append('Lion')"
   ]
  },
  {
   "cell_type": "code",
   "execution_count": 18,
   "id": "e4ea6a3c-eca8-46a0-9ba7-1f4f82d53b8f",
   "metadata": {},
   "outputs": [
    {
     "data": {
      "text/plain": [
       "['dog', 'cow', 'cat', 'Lion']"
      ]
     },
     "execution_count": 18,
     "metadata": {},
     "output_type": "execute_result"
    }
   ],
   "source": [
    "Favorite_animals"
   ]
  },
  {
   "cell_type": "raw",
   "id": "36ba0c5e-c950-4ff5-8424-5cb995385fb5",
   "metadata": {},
   "source": [
    "Q8. Create a list of your favorite cities, then use the index() method to find the position of a specific city\n",
    "on the list and print it."
   ]
  },
  {
   "cell_type": "raw",
   "id": "f636f957-c21f-482f-a90e-7813c0b8e597",
   "metadata": {},
   "source": [
    "Ans."
   ]
  },
  {
   "cell_type": "code",
   "execution_count": 20,
   "id": "a3d590f9-4641-4ea6-ae12-c2e8c455dd37",
   "metadata": {},
   "outputs": [],
   "source": [
    "favorite_cities=['Delhi','Pune','Jaipur','Noida','Udaipur']"
   ]
  },
  {
   "cell_type": "code",
   "execution_count": 21,
   "id": "dac75dc5-9ede-4cbc-a117-5f7fb1b956d6",
   "metadata": {},
   "outputs": [
    {
     "data": {
      "text/plain": [
       "2"
      ]
     },
     "execution_count": 21,
     "metadata": {},
     "output_type": "execute_result"
    }
   ],
   "source": [
    "favorite_cities.index('Jaipur')"
   ]
  },
  {
   "cell_type": "code",
   "execution_count": null,
   "id": "bdac3c09-138e-4d8d-a720-ac827661af63",
   "metadata": {},
   "outputs": [],
   "source": []
  }
 ],
 "metadata": {
  "kernelspec": {
   "display_name": "Python 3 (ipykernel)",
   "language": "python",
   "name": "python3"
  },
  "language_info": {
   "codemirror_mode": {
    "name": "ipython",
    "version": 3
   },
   "file_extension": ".py",
   "mimetype": "text/x-python",
   "name": "python",
   "nbconvert_exporter": "python",
   "pygments_lexer": "ipython3",
   "version": "3.10.8"
  }
 },
 "nbformat": 4,
 "nbformat_minor": 5
}
