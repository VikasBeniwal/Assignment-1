{
 "cells": [
  {
   "cell_type": "markdown",
   "id": "9911c316-5965-4ac0-a19a-12bdf96d031a",
   "metadata": {},
   "source": [
    "Q1. Create an empty list."
   ]
  },
  {
   "cell_type": "markdown",
   "id": "dab09d4b-4f2a-412e-bafd-9b433d81e4e8",
   "metadata": {},
   "source": [
    "Ans. "
   ]
  },
  {
   "cell_type": "code",
   "execution_count": 19,
   "id": "bfb4e0b8-7e81-4a65-b7af-228ff609a398",
   "metadata": {},
   "outputs": [],
   "source": [
    "l = []"
   ]
  },
  {
   "cell_type": "code",
   "execution_count": 25,
   "id": "3c984f57-846f-4267-b334-3b88c3ba543f",
   "metadata": {},
   "outputs": [
    {
     "data": {
      "text/plain": [
       "list"
      ]
     },
     "execution_count": 25,
     "metadata": {},
     "output_type": "execute_result"
    }
   ],
   "source": [
    "type(l)"
   ]
  },
  {
   "cell_type": "markdown",
   "id": "5410401b-704d-4910-aefd-b19a2fbf1249",
   "metadata": {},
   "source": [
    "Q2. Create a list and add an element to the end of this list."
   ]
  },
  {
   "cell_type": "markdown",
   "id": "1e6fc875-4f48-44e2-9d5d-d35c46199382",
   "metadata": {},
   "source": [
    "Ans."
   ]
  },
  {
   "cell_type": "code",
   "execution_count": 26,
   "id": "bb421cf7-0b6a-49a1-a8f6-f6de31bad22a",
   "metadata": {},
   "outputs": [],
   "source": [
    "l=[45,40,50]"
   ]
  },
  {
   "cell_type": "code",
   "execution_count": 27,
   "id": "db807172-6b1e-4815-8282-fba257b2ab25",
   "metadata": {},
   "outputs": [
    {
     "data": {
      "text/plain": [
       "[45, 40, 50]"
      ]
     },
     "execution_count": 27,
     "metadata": {},
     "output_type": "execute_result"
    }
   ],
   "source": [
    "l"
   ]
  },
  {
   "cell_type": "code",
   "execution_count": 28,
   "id": "f4f63985-01d4-4b01-9f13-389cfd627ef4",
   "metadata": {},
   "outputs": [],
   "source": [
    "l.append(20)"
   ]
  },
  {
   "cell_type": "code",
   "execution_count": 29,
   "id": "2bc393c3-91b2-416b-ac1c-a9c64476f17f",
   "metadata": {},
   "outputs": [
    {
     "data": {
      "text/plain": [
       "[45, 40, 50, 20]"
      ]
     },
     "execution_count": 29,
     "metadata": {},
     "output_type": "execute_result"
    }
   ],
   "source": [
    "l"
   ]
  },
  {
   "cell_type": "markdown",
   "id": "69ce5347-cc38-409e-899f-4c280fce1c6f",
   "metadata": {},
   "source": [
    "Q3. For the above created list print the last element."
   ]
  },
  {
   "cell_type": "markdown",
   "id": "36c2c84d-1a9f-4955-8ff9-8cd66ece9219",
   "metadata": {},
   "source": [
    "Ans."
   ]
  },
  {
   "cell_type": "code",
   "execution_count": 30,
   "id": "84d63107-a960-4bfd-873c-8dda396c381b",
   "metadata": {},
   "outputs": [
    {
     "data": {
      "text/plain": [
       "20"
      ]
     },
     "execution_count": 30,
     "metadata": {},
     "output_type": "execute_result"
    }
   ],
   "source": [
    "l[-1]"
   ]
  },
  {
   "cell_type": "markdown",
   "id": "3c723cae-cb66-49d4-8985-a4c280f975c1",
   "metadata": {},
   "source": [
    "Q4. Reverse the above created list."
   ]
  },
  {
   "cell_type": "markdown",
   "id": "e9375aec-824b-470d-a99b-c52373e2e5f5",
   "metadata": {},
   "source": [
    "Ans."
   ]
  },
  {
   "cell_type": "code",
   "execution_count": 31,
   "id": "33790aaf-8440-4bc3-a2c0-525d2601f4fb",
   "metadata": {},
   "outputs": [],
   "source": [
    "l.reverse()"
   ]
  },
  {
   "cell_type": "code",
   "execution_count": 32,
   "id": "e8d59377-439d-4c73-a40d-44a9cbfc85a5",
   "metadata": {},
   "outputs": [
    {
     "data": {
      "text/plain": [
       "[20, 50, 40, 45]"
      ]
     },
     "execution_count": 32,
     "metadata": {},
     "output_type": "execute_result"
    }
   ],
   "source": [
    "l"
   ]
  },
  {
   "cell_type": "markdown",
   "id": "b452336e-072c-4d49-8bb9-fd4647eddb05",
   "metadata": {},
   "source": [
    "Q5. Sort the above created list."
   ]
  },
  {
   "cell_type": "markdown",
   "id": "3aae326d-e68f-45ab-adbe-ed9049786be5",
   "metadata": {},
   "source": [
    "Ans."
   ]
  },
  {
   "cell_type": "code",
   "execution_count": 33,
   "id": "f39f967a-6e47-4d34-8acc-607565e5dec7",
   "metadata": {},
   "outputs": [],
   "source": [
    "l.sort()"
   ]
  },
  {
   "cell_type": "code",
   "execution_count": 34,
   "id": "3fca8fbe-29da-42a3-92af-9c59950975a0",
   "metadata": {},
   "outputs": [
    {
     "data": {
      "text/plain": [
       "[20, 40, 45, 50]"
      ]
     },
     "execution_count": 34,
     "metadata": {},
     "output_type": "execute_result"
    }
   ],
   "source": [
    "l"
   ]
  },
  {
   "cell_type": "markdown",
   "id": "d0597e12-7ee8-4c68-a01f-660abc8c1ef4",
   "metadata": {},
   "source": [
    "Q6. Create a list of your top three favorite movies, then print the second movie title."
   ]
  },
  {
   "cell_type": "markdown",
   "id": "2c2bf2a1-8f91-446c-b460-8a6fc123bdc6",
   "metadata": {},
   "source": [
    "Ans."
   ]
  },
  {
   "cell_type": "code",
   "execution_count": 35,
   "id": "d53f3aa1-399c-4225-b8a9-f81d573c251d",
   "metadata": {},
   "outputs": [],
   "source": [
    "Favorite_movie=['GADAR','GADAR 2', 'OMG']"
   ]
  },
  {
   "cell_type": "code",
   "execution_count": 36,
   "id": "a016ff2e-9c1d-412e-901f-40812ddaf009",
   "metadata": {},
   "outputs": [
    {
     "data": {
      "text/plain": [
       "'GADAR 2'"
      ]
     },
     "execution_count": 36,
     "metadata": {},
     "output_type": "execute_result"
    }
   ],
   "source": [
    "Favorite_movie[1]"
   ]
  },
  {
   "cell_type": "markdown",
   "id": "a668f402-c82b-45f3-bd43-09fdf0d8d67e",
   "metadata": {},
   "source": [
    "Q7. Create a list of your favorite animals, then add a new animal to the list and print the updated list."
   ]
  },
  {
   "cell_type": "markdown",
   "id": "83ef40ef-dffe-4e3e-96e7-fc3e61c891ad",
   "metadata": {},
   "source": [
    "Ans."
   ]
  },
  {
   "cell_type": "code",
   "execution_count": 37,
   "id": "43157309-856c-49c4-871d-f6e71152cf4b",
   "metadata": {},
   "outputs": [],
   "source": [
    "Favorite_animals=['dog','cow','cat']"
   ]
  },
  {
   "cell_type": "code",
   "execution_count": 38,
   "id": "fbc6559b-4919-4887-89fc-03d4f7f7ba29",
   "metadata": {},
   "outputs": [],
   "source": [
    "Favorite_animals.append('Lion')"
   ]
  },
  {
   "cell_type": "code",
   "execution_count": 39,
   "id": "e4ea6a3c-eca8-46a0-9ba7-1f4f82d53b8f",
   "metadata": {},
   "outputs": [
    {
     "data": {
      "text/plain": [
       "['dog', 'cow', 'cat', 'Lion']"
      ]
     },
     "execution_count": 39,
     "metadata": {},
     "output_type": "execute_result"
    }
   ],
   "source": [
    "Favorite_animals"
   ]
  },
  {
   "cell_type": "markdown",
   "id": "82cb8293-2760-438f-8dce-725a63bee58f",
   "metadata": {},
   "source": [
    "Q8. Create a list of your favorite cities, then use the index() method to find the position of a specific city\n",
    "on the list and print it."
   ]
  },
  {
   "cell_type": "markdown",
   "id": "b51bb640-6f8e-4e67-99b9-54365a240858",
   "metadata": {},
   "source": [
    "Ans."
   ]
  },
  {
   "cell_type": "code",
   "execution_count": 40,
   "id": "a3d590f9-4641-4ea6-ae12-c2e8c455dd37",
   "metadata": {},
   "outputs": [],
   "source": [
    "favorite_cities=['Delhi','Pune','Jaipur','Noida','Udaipur']"
   ]
  },
  {
   "cell_type": "code",
   "execution_count": 41,
   "id": "dac75dc5-9ede-4cbc-a117-5f7fb1b956d6",
   "metadata": {},
   "outputs": [
    {
     "data": {
      "text/plain": [
       "2"
      ]
     },
     "execution_count": 41,
     "metadata": {},
     "output_type": "execute_result"
    }
   ],
   "source": [
    "favorite_cities.index('Jaipur')"
   ]
  },
  {
   "cell_type": "code",
   "execution_count": null,
   "id": "bdac3c09-138e-4d8d-a720-ac827661af63",
   "metadata": {},
   "outputs": [],
   "source": []
  },
  {
   "cell_type": "code",
   "execution_count": null,
   "id": "1268aead-d91a-424f-8b20-369b2a78f8ef",
   "metadata": {},
   "outputs": [],
   "source": []
  }
 ],
 "metadata": {
  "kernelspec": {
   "display_name": "Python 3 (ipykernel)",
   "language": "python",
   "name": "python3"
  },
  "language_info": {
   "codemirror_mode": {
    "name": "ipython",
    "version": 3
   },
   "file_extension": ".py",
   "mimetype": "text/x-python",
   "name": "python",
   "nbconvert_exporter": "python",
   "pygments_lexer": "ipython3",
   "version": "3.10.8"
  }
 },
 "nbformat": 4,
 "nbformat_minor": 5
}
